{
 "cells": [
  {
   "cell_type": "code",
   "execution_count": 1,
   "id": "a16c368d",
   "metadata": {},
   "outputs": [],
   "source": [
    "import os\n",
    "import sys\n",
    "\n",
    "sys.path.append(os.path.abspath(os.path.join(\"..\")))\n",
    "sys.path.append(os.path.abspath(os.path.join(\"../scripts\")))"
   ]
  },
  {
   "cell_type": "code",
   "execution_count": 2,
   "id": "a2e8a1b5",
   "metadata": {},
   "outputs": [],
   "source": [
    "import pandas as pd\n",
    "import scripts.hypotesis_testing as ht\n",
    "import scripts.csv_utils  as csv\n",
    "import seaborn as sns\n",
    "import matplotlib.pyplot as plt"
   ]
  },
  {
   "cell_type": "markdown",
   "id": "5deaf076",
   "metadata": {},
   "source": [
    "### Load  Dataset"
   ]
  },
  {
   "cell_type": "code",
   "execution_count": 3,
   "id": "d49629f7",
   "metadata": {},
   "outputs": [
    {
     "name": "stderr",
     "output_type": "stream",
     "text": [
      "c:\\Users\\dagiM\\Desktop\\Kifiya\\Week 3\\Insurance Risk Analytics & Predictive Modeling\\scripts\\csv_utils.py:16: DtypeWarning: Columns (37) have mixed types. Specify dtype option on import or set low_memory=False.\n",
      "  df = pd.read_csv(file_path)\n"
     ]
    },
    {
     "name": "stdout",
     "output_type": "stream",
     "text": [
      "Data loaded successfully from ../Data/data.csv. Shape: (1000098, 52)\n"
     ]
    }
   ],
   "source": [
    "data_path = \"../Data/data.csv\"\n",
    "df = csv.load_csv(data_path)\n",
    "df = ht.calculate_claim_metrics(df)"
   ]
  },
  {
   "cell_type": "code",
   "execution_count": 4,
   "id": "c3bdeb24",
   "metadata": {},
   "outputs": [],
   "source": [
    "df['LossRatio'] = df['TotalClaims'] / df['TotalPremium']"
   ]
  },
  {
   "cell_type": "markdown",
   "id": "ac98973f",
   "metadata": {},
   "source": [
    "### Hypothesis Tests"
   ]
  },
  {
   "cell_type": "code",
   "execution_count": 5,
   "id": "c86d764d",
   "metadata": {},
   "outputs": [],
   "source": [
    "results = []\n",
    "\n",
    "# H₀: No risk difference across provinces\n",
    "provinces = df['Province'].dropna().unique()\n",
    "for i in range(len(provinces)):\n",
    "    for j in range(i+1, len(provinces)):\n",
    "        result = ht.test_difference_between_groups(df, \"Province\", \"LossRatio\", provinces[i], provinces[j])\n",
    "        results.append(result)\n",
    "\n",
    "# H₀: No risk difference between zip codes\n",
    "zipcodes = df['PostalCode'].dropna().unique()[:5]  # Sample only a few to reduce combinations\n",
    "for i in range(len(zipcodes)):\n",
    "    for j in range(i+1, len(zipcodes)):\n",
    "        result = ht.test_difference_between_groups(df, \"PostalCode\", \"LossRatio\", zipcodes[i], zipcodes[j])\n",
    "        results.append(result)\n",
    "\n",
    "# H₀: No margin difference between zip codes\n",
    "for i in range(len(zipcodes)):\n",
    "    for j in range(i+1, len(zipcodes)):\n",
    "        result = ht.test_difference_between_groups(df, \"PostalCode\", \"Margin\", zipcodes[i], zipcodes[j])\n",
    "        results.append(result)\n",
    "\n",
    "# H₀: No risk difference between Women and Men\n",
    "result = ht.test_difference_between_groups(df, \"Gender\", \"LossRatio\", \"Male\", \"Female\")\n",
    "results.append(result)"
   ]
  },
  {
   "cell_type": "markdown",
   "id": "49e30143",
   "metadata": {},
   "source": [
    "### Display Results"
   ]
  },
  {
   "cell_type": "code",
   "execution_count": 6,
   "id": "16a1bc1c",
   "metadata": {},
   "outputs": [
    {
     "data": {
      "text/html": [
       "<div>\n",
       "<style scoped>\n",
       "    .dataframe tbody tr th:only-of-type {\n",
       "        vertical-align: middle;\n",
       "    }\n",
       "\n",
       "    .dataframe tbody tr th {\n",
       "        vertical-align: top;\n",
       "    }\n",
       "\n",
       "    .dataframe thead th {\n",
       "        text-align: right;\n",
       "    }\n",
       "</style>\n",
       "<table border=\"1\" class=\"dataframe\">\n",
       "  <thead>\n",
       "    <tr style=\"text-align: right;\">\n",
       "      <th></th>\n",
       "      <th>group_a</th>\n",
       "      <th>group_b</th>\n",
       "      <th>metric</th>\n",
       "      <th>t_stat</th>\n",
       "      <th>p_value</th>\n",
       "      <th>significant</th>\n",
       "    </tr>\n",
       "  </thead>\n",
       "  <tbody>\n",
       "    <tr>\n",
       "      <th>53</th>\n",
       "      <td>1619</td>\n",
       "      <td>1625</td>\n",
       "      <td>Margin</td>\n",
       "      <td>-2.291931</td>\n",
       "      <td>0.022004</td>\n",
       "      <td>True</td>\n",
       "    </tr>\n",
       "  </tbody>\n",
       "</table>\n",
       "</div>"
      ],
      "text/plain": [
       "   group_a group_b  metric    t_stat   p_value  significant\n",
       "53    1619    1625  Margin -2.291931  0.022004         True"
      ]
     },
     "execution_count": 6,
     "metadata": {},
     "output_type": "execute_result"
    }
   ],
   "source": [
    "results_df = pd.DataFrame(results)\n",
    "results_df[results_df[\"significant\"] == True]"
   ]
  },
  {
   "cell_type": "markdown",
   "id": "5281c99b",
   "metadata": {},
   "source": [
    "The p-value = 0.022 is below the standard significance threshold of 0.05. Therefore, we reject the null hypothesis that the average margin (TotalPremium - TotalClaims) is equal for zip codes 1619 and 1625.\n",
    "\n",
    "The negative t-statistic (-2.29) indicates that zip code 1619 has a significantly lower average margin than zip code 1625.\n",
    "\n",
    "This suggests that policies issued in zip code 1619 are less profitable compared to those in 1625."
   ]
  },
  {
   "cell_type": "code",
   "execution_count": 7,
   "id": "5ad0215b",
   "metadata": {},
   "outputs": [
    {
     "name": "stderr",
     "output_type": "stream",
     "text": [
      "C:\\Users\\dagiM\\AppData\\Local\\Temp\\ipykernel_21216\\1044701958.py:5: FutureWarning: \n",
      "\n",
      "Passing `palette` without assigning `hue` is deprecated and will be removed in v0.14.0. Assign the `x` variable to `hue` and set `legend=False` for the same effect.\n",
      "\n",
      "  sns.boxplot(data=df_margin, x='PostalCode', y='Margin', palette='Set2')\n"
     ]
    },
    {
     "data": {
      "image/png": "[encoded data removed]",
      "text/plain": [
       "<Figure size 1000x600 with 1 Axes>"
      ]
     },
     "metadata": {},
     "output_type": "display_data"
    }
   ],
   "source": [
    "df_margin = df[df['PostalCode'].isin([1619, 1625])]\n",
    "\n",
    "# Plot\n",
    "plt.figure(figsize=(10, 6))\n",
    "sns.boxplot(data=df_margin, x='PostalCode', y='Margin', palette='Set2')\n",
    "\n",
    "plt.title(\"Margin Distribution by Zip Code (1619 vs 1625)\")\n",
    "plt.xlabel(\"Postal Code\")\n",
    "plt.ylabel(\"Margin (TotalPremium - TotalClaims)\")\n",
    "plt.grid(axis='y', linestyle='--', alpha=0.5)\n",
    "plt.tight_layout()\n",
    "plt.show()"
   ]
  }
 ],
 "metadata": {
  "kernelspec": {
   "display_name": "venv",
   "language": "python",
   "name": "python3"
  },
  "language_info": {
   "codemirror_mode": {
    "name": "ipython",
    "version": 3
   },
   "file_extension": ".py",
   "mimetype": "text/x-python",
   "name": "python",
   "nbconvert_exporter": "python",
   "pygments_lexer": "ipython3",
   "version": "3.12.6"
  }
 },
 "nbformat": 4,
 "nbformat_minor": 5
}
